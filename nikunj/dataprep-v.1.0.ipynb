{
 "cells": [
  {
   "cell_type": "code",
   "execution_count": null,
   "id": "49d747ee-6dab-45a9-8fc8-7d45bf9e8111",
   "metadata": {},
   "outputs": [],
   "source": [
    "WORKING_DIR = '/Users/nikunjkumarraval/OneDrive/projects/twitter'\n",
    "\n",
    "TWITTER_API_SECRET_1=\"DVYV0jX3GI3ZGzbU9jqBjnfx6\"\n",
    "TWITTER_API_SECRET_2=\"4byshg5kGXWTZdsDKJLwKGvSDIuLKmcuhE5Q2OgG4Pffdu3Tpw\"\n",
    "\n",
    "\n",
    "IMG_FILE_IDX=0"
   ]
  },
  {
   "cell_type": "code",
   "execution_count": null,
   "id": "9171e5cd-3f65-47af-a42a-6f481ba78cc0",
   "metadata": {},
   "outputs": [],
   "source": [
    "import tweepy\n",
    "import json\n",
    "import pprint\n",
    "import pandas as pd\n",
    "import urllib\n",
    "import os\n",
    "import glob\n",
    "import random\n",
    "import base64\n",
    "import pandas as pd\n",
    "import time\n",
    "import requests\n",
    "import json\n",
    "\n",
    "from IPython.display import HTML\n",
    "\n",
    "pd.set_option('display.max_colwidth', -1)\n",
    " \n",
    "TPAPI = tweepy.API(tweepy.OAuthHandler(TWITTER_API_SECRET_1, TWITTER_API_SECRET_2))\n",
    "IMG_FILE_IDX = 1"
   ]
  },
  {
   "cell_type": "code",
   "execution_count": null,
   "id": "8f0ec68b-25cf-4693-8057-f485447ab18b",
   "metadata": {},
   "outputs": [],
   "source": [
    "## Function to download basic info\n",
    "def get_basic_info(profile, loc):\n",
    "    response_json = TPAPI.get_user(screen_name=profile)._json\n",
    "    interested_fields = [{\n",
    "        'id': response_json['id'],\n",
    "        'screen_name': response_json['screen_name'],\n",
    "        'name': response_json['name'],\n",
    "        'description': response_json['description'],\n",
    "        'image': response_json['profile_image_url'],\n",
    "        'followers_count': response_json['followers_count'],\n",
    "        'friends_count': response_json['friends_count'],\n",
    "    }]\n",
    "    pd.DataFrame(interested_fields).to_csv(loc, index=False, header=True)\n",
    "\n",
    "\n",
    "def get_friends(profile, loc):\n",
    "    response_json = TPAPI.get_friends(screen_name=profile)\n",
    "    friends = []\n",
    "    for friend in response_json:\n",
    "        interested_fields = {\n",
    "            'id': friend._json['id'],\n",
    "            'screen_name': friend._json['screen_name'],\n",
    "            'name': friend._json['name'],\n",
    "            'description': friend._json['description'],\n",
    "            'image': friend._json['profile_image_url'],\n",
    "            'followers_count': friend._json['followers_count'],\n",
    "            'friends_count': friend._json['friends_count'],\n",
    "        }\n",
    "        friends.append(interested_fields)\n",
    "    pd.DataFrame(friends).to_csv(loc, index=False, header=True)\n",
    "\n",
    "\n",
    "def get_tweets(profile, loc):\n",
    "    tweets = []\n",
    "    for tweet in tweepy.Cursor(TPAPI.user_timeline,screen_name=profile, tweet_mode = 'extended').items():\n",
    "        tweets.append({\n",
    "            'created_at': tweet._json['created_at'],\n",
    "            'full_text': tweet._json['full_text'],\n",
    "            'retweet_count': tweet._json['retweet_count'],\n",
    "            'favorite_count': tweet._json['favorite_count'],\n",
    "            'screen_name': profile,\n",
    "        })\n",
    "    pd.DataFrame(tweets).to_csv(loc, index=False, header=True)\n",
    "\n",
    "\n",
    "def generate_data(profiles):\n",
    "    os.makedirs('./tweets', exist_ok=True)\n",
    "    os.makedirs('./friends', exist_ok=True)\n",
    "    os.makedirs('./info', exist_ok=True)\n",
    "    for profile in profiles:\n",
    "        print(f'Getting data for {profile}')\n",
    "        get_basic_info(profile, f'./info/{profile}.csv')\n",
    "        #get_friends(profile, f'./friends/{profile}.csv')\n",
    "        get_tweets(profile, f'./tweets/{profile}.csv')\n",
    "        print(f'Got data for {profile}')\n",
    "\n",
    "\n",
    "INTERESTED_PEOPLE = [\"RayDalio\", \"larryellison\", \"GinniRometty\", \"ericschmidt\", \"marceloclaure\", \"sarandos_ted\", \"Benioff\"]\n",
    "INTERESTED_COMPAINES = [\"Coinbase\", \"OpenAI\"]\n",
    "\n",
    "#generate_data(INTERESTED_PEOPLE + INTERESTED_COMPAINES)"
   ]
  },
  {
   "cell_type": "code",
   "execution_count": null,
   "id": "59f25c65-8e6e-476b-9d5f-113fcb64e7ac",
   "metadata": {},
   "outputs": [],
   "source": [
    "generate_data('Oracle')"
   ]
  },
  {
   "cell_type": "code",
   "execution_count": null,
   "id": "611ca700-e3ef-4349-bea5-cc480cb92a4f",
   "metadata": {},
   "outputs": [],
   "source": []
  }
 ],
 "metadata": {
  "kernelspec": {
   "display_name": "twitter",
   "language": "python",
   "name": "twitter"
  },
  "language_info": {
   "codemirror_mode": {
    "name": "ipython",
    "version": 3
   },
   "file_extension": ".py",
   "mimetype": "text/x-python",
   "name": "python",
   "nbconvert_exporter": "python",
   "pygments_lexer": "ipython3",
   "version": "3.8.12"
  }
 },
 "nbformat": 4,
 "nbformat_minor": 5
}
