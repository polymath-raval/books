{
 "cells": [
  {
   "cell_type": "code",
   "execution_count": 1,
   "id": "31dc38a7-4236-4c7e-85e8-4b46f9d70f17",
   "metadata": {},
   "outputs": [],
   "source": [
    "WORKING_DIR = '/Users/nikunjkumarraval/OneDrive/projects/twitter'\n",
    "\n",
    "TWITTER_API_SECRET_1=\"DVYV0jX3GI3ZGzbU9jqBjnfx6\"\n",
    "TWITTER_API_SECRET_2=\"4byshg5kGXWTZdsDKJLwKGvSDIuLKmcuhE5Q2OgG4Pffdu3Tpw\"\n",
    "\n",
    "INTERESTED_PEOPLE = [\"RayDalio\", \"larryellison\", \"GinniRometty\", \"ericschmidt\", \"marceloclaure\", \"sarandos_ted\", \"Benioff\"]\n",
    "INTERESTED_COMPAINES = [\"Coinbase\", \"OpenAI\"]\n",
    "INTERESTED_PROFILES = INTERESTED_PEOPLE + INTERESTED_COMPAINES\n",
    "\n",
    "IMG_FILE_IDX=0"
   ]
  },
  {
   "cell_type": "code",
   "execution_count": 2,
   "id": "ef5fc964-e30b-4504-825f-966bb1bd8236",
   "metadata": {},
   "outputs": [
    {
     "name": "stderr",
     "output_type": "stream",
     "text": [
      "/tmp/ipykernel_3198/3250034511.py:17: FutureWarning: Passing a negative integer is deprecated in version 1.0 and will not be supported in future version. Instead, use None to not limit the column width.\n",
      "  pd.set_option('display.max_colwidth', -1)\n"
     ]
    }
   ],
   "source": [
    "import tweepy\n",
    "import json\n",
    "import pprint\n",
    "import pandas as pd\n",
    "import urllib\n",
    "import os\n",
    "import glob\n",
    "import random\n",
    "import base64\n",
    "import pandas as pd\n",
    "import time\n",
    "import requests\n",
    "import json\n",
    "\n",
    "from IPython.display import HTML\n",
    "\n",
    "pd.set_option('display.max_colwidth', -1)\n",
    " \n",
    "TPAPI = tweepy.API(tweepy.OAuthHandler(TWITTER_API_SECRET_1, TWITTER_API_SECRET_2))\n",
    "IMG_FILE_IDX = 1"
   ]
  },
  {
   "cell_type": "code",
   "execution_count": 3,
   "id": "50c85907-5074-45c9-88ca-71af3b025b29",
   "metadata": {},
   "outputs": [
    {
     "data": {
      "text/html": [
       "<table border=\"1\" class=\"dataframe\">\n",
       "  <thead>\n",
       "    <tr style=\"text-align: right;\">\n",
       "      <th></th>\n",
       "      <th>name</th>\n",
       "      <th>description</th>\n",
       "      <th>image</th>\n",
       "      <th>followers_count</th>\n",
       "      <th>friends_count</th>\n",
       "    </tr>\n",
       "  </thead>\n",
       "  <tbody>\n",
       "    <tr>\n",
       "      <th>RayDalio</th>\n",
       "      <td>Ray Dalio</td>\n",
       "      <td>Official account of Ray Dalio, founder of Bridgewater Associates, author of #1 New York Times bestseller 'Principles,' professional mistake maker</td>\n",
       "      <td><img src=\"http://pbs.twimg.com/profile_images/1465691046747283461/3ZtnoH5-_normal.jpg\" width=\"60\" ></td>\n",
       "      <td>776665</td>\n",
       "      <td>92</td>\n",
       "    </tr>\n",
       "    <tr>\n",
       "      <th>larryellison</th>\n",
       "      <td>Larry Ellison</td>\n",
       "      <td></td>\n",
       "      <td><img src=\"http://pbs.twimg.com/profile_images/2267320808/9m1dxis8i287vq9rcgvx_normal.jpeg\" width=\"60\" ></td>\n",
       "      <td>113291</td>\n",
       "      <td>41</td>\n",
       "    </tr>\n",
       "    <tr>\n",
       "      <th>GinniRometty</th>\n",
       "      <td>Ginni Rometty</td>\n",
       "      <td>Living my values. Former chairman and CEO of @IBM. I believe in the power of business and technology to create a better tomorrow.</td>\n",
       "      <td><img src=\"http://pbs.twimg.com/profile_images/1259936655466692608/T9S5WzZM_normal.png\" width=\"60\" ></td>\n",
       "      <td>35739</td>\n",
       "      <td>93</td>\n",
       "    </tr>\n",
       "    <tr>\n",
       "      <th>ericschmidt</th>\n",
       "      <td>Eric Schmidt</td>\n",
       "      <td>Former Executive Chairman & CEO and tweets from Schmidt Foundation</td>\n",
       "      <td><img src=\"http://pbs.twimg.com/profile_images/511582119793930240/JgGOe77c_normal.jpeg\" width=\"60\" ></td>\n",
       "      <td>2231173</td>\n",
       "      <td>143</td>\n",
       "    </tr>\n",
       "    <tr>\n",
       "      <th>marceloclaure</th>\n",
       "      <td>Marcelo Claure</td>\n",
       "      <td>Father of 6,Husband,CEO @Softbank Int’l, Chairman @WeWork & Fortress. Board @Tmobile,@Arm,@Univision, @SorareHQ, @Bolivar_Oficial &  @gironafc ⚽️</td>\n",
       "      <td><img src=\"http://pbs.twimg.com/profile_images/1407880092592771076/nyrnF1MO_normal.jpg\" width=\"60\" ></td>\n",
       "      <td>281322</td>\n",
       "      <td>868</td>\n",
       "    </tr>\n",
       "    <tr>\n",
       "      <th>sarandos_ted</th>\n",
       "      <td>Ted Sarandos</td>\n",
       "      <td></td>\n",
       "      <td><img src=\"http://pbs.twimg.com/profile_images/1354455090527133698/IinmdCw6_normal.jpg\" width=\"60\" ></td>\n",
       "      <td>635</td>\n",
       "      <td>0</td>\n",
       "    </tr>\n",
       "    <tr>\n",
       "      <th>Benioff</th>\n",
       "      <td>Marc Benioff</td>\n",
       "      <td>ceo@salesforce.com chair@time.com</td>\n",
       "      <td><img src=\"http://pbs.twimg.com/profile_images/1474818103410266115/3XCGra4b_normal.jpg\" width=\"60\" ></td>\n",
       "      <td>1062826</td>\n",
       "      <td>3725</td>\n",
       "    </tr>\n",
       "    <tr>\n",
       "      <th>Coinbase</th>\n",
       "      <td>Coinbase</td>\n",
       "      <td>Coinbase is the easiest place to buy and sell crypto. For support ➡️ @CoinbaseSupport</td>\n",
       "      <td><img src=\"http://pbs.twimg.com/profile_images/1481004008630198272/NdH6949o_normal.png\" width=\"60\" ></td>\n",
       "      <td>4549378</td>\n",
       "      <td>21</td>\n",
       "    </tr>\n",
       "    <tr>\n",
       "      <th>OpenAI</th>\n",
       "      <td>OpenAI</td>\n",
       "      <td>OpenAI’s mission is to ensure that artificial general intelligence benefits all of humanity. We’re hiring: https://t.co/XxM7UoAwz9</td>\n",
       "      <td><img src=\"http://pbs.twimg.com/profile_images/1002240475556823040/lb_Q04CY_normal.jpg\" width=\"60\" ></td>\n",
       "      <td>639319</td>\n",
       "      <td>0</td>\n",
       "    </tr>\n",
       "  </tbody>\n",
       "</table>"
      ],
      "text/plain": [
       "<IPython.core.display.HTML object>"
      ]
     },
     "execution_count": 3,
     "metadata": {},
     "output_type": "execute_result"
    }
   ],
   "source": [
    "## Function to download basic info\n",
    "def get_basic_info():\n",
    "    basic_info = {}\n",
    "    for profile in INTERESTED_PROFILES:\n",
    "        time.sleep(1)\n",
    "        response_json = TPAPI.get_user(screen_name=profile)._json\n",
    "        interested_fields = {\n",
    "            'id': response_json['id'],\n",
    "            'name': response_json['name'],\n",
    "            'description': response_json['description'],\n",
    "            'image': response_json['profile_image_url'],\n",
    "            'followers_count': response_json['followers_count'],\n",
    "            'friends_count': response_json['friends_count'],\n",
    "        }\n",
    "        basic_info[profile] = interested_fields\n",
    "    df = pd.DataFrame(basic_info).T\n",
    "    return df\n",
    "\n",
    "df_basic_info = get_basic_info()\n",
    "HTML(df_basic_info[[\"name\", \"description\", \"image\", \"followers_count\", \"friends_count\"]].to_html(\n",
    "    escape=False, formatters=dict(image=lambda p : '<img src=\"'+ p + '\" width=\"60\" >')))"
   ]
  },
  {
   "cell_type": "code",
   "execution_count": 8,
   "id": "7abae7ce-003f-46af-a8b4-4b6c31dc08f7",
   "metadata": {},
   "outputs": [],
   "source": [
    "def get_friends():\n",
    "    result = {}\n",
    "    for profile in INTERESTED_PROFILES:\n",
    "        time.sleep(1)\n",
    "        response_json = TPAPI.get_friends(screen_name=profile)\n",
    "        friends = []\n",
    "        for friend in response_json:\n",
    "            interested_fields = {\n",
    "                'id': friend._json['id'],\n",
    "                'name': friend._json['name'],\n",
    "                'description': friend._json['description'],\n",
    "                'image': friend._json['profile_image_url'],\n",
    "                'followers_count': friend._json['followers_count'],\n",
    "                'friends_count': friend._json['friends_count'],\n",
    "            }\n",
    "            friends.append(interested_fields)\n",
    "        result[profile] = pd.DataFrame(friends)\n",
    "    return result\n",
    "\n",
    "friends = get_friends()"
   ]
  },
  {
   "cell_type": "code",
   "execution_count": 7,
   "id": "7378b62c-83f6-4fdc-a505-3da616c0fa5f",
   "metadata": {},
   "outputs": [
    {
     "name": "stdout",
     "output_type": "stream",
     "text": [
      "Getting tweeets for RayDalio\n",
      "Got 3250 tweeets for RayDalio\n",
      "Getting tweeets for larryellison\n",
      "Got 1 tweeets for larryellison\n",
      "Getting tweeets for GinniRometty\n",
      "Got 156 tweeets for GinniRometty\n",
      "Getting tweeets for ericschmidt\n",
      "Got 979 tweeets for ericschmidt\n",
      "Getting tweeets for marceloclaure\n",
      "Got 3249 tweeets for marceloclaure\n",
      "Getting tweeets for sarandos_ted\n",
      "Got 0 tweeets for sarandos_ted\n",
      "Getting tweeets for Benioff\n",
      "Got 3244 tweeets for Benioff\n",
      "Getting tweeets for Coinbase\n",
      "Got 1499 tweeets for Coinbase\n",
      "Getting tweeets for OpenAI\n",
      "Got 526 tweeets for OpenAI\n"
     ]
    }
   ],
   "source": [
    "def get_tweets_per_user(profile):\n",
    "    tweets = []\n",
    "    for tweet in tweepy.Cursor(TPAPI.user_timeline,screen_name=profile, tweet_mode = 'extended').items():\n",
    "        t = {\n",
    "            'created_at': tweet._json['full_text'],\n",
    "            'full_text': tweet._json['full_text'],\n",
    "            'retweet_count': tweet._json['retweet_count'],\n",
    "            'favorite_count': tweet._json['favorite_count']\n",
    "        }\n",
    "        tweets.append(tweet)\n",
    "    return tweets\n",
    "\n",
    "def get_tweets():\n",
    "    tweets = {}\n",
    "    for profile in INTERESTED_PROFILES:\n",
    "        print(f'Getting tweeets for {profile}')\n",
    "        tweets[profile] = get_tweets_per_user(profile)\n",
    "        print(f'Got {len(tweets[profile])} tweeets for {profile}')\n",
    "    return tweets\n",
    "\n",
    "tweets = get_tweets()"
   ]
  },
  {
   "cell_type": "code",
   "execution_count": 9,
   "id": "95cdef00-6f97-40f3-9caf-b44733831d2f",
   "metadata": {},
   "outputs": [],
   "source": [
    "df_basic_info.to_csv('./basic_info.csv', header=True, index=True)"
   ]
  },
  {
   "cell_type": "code",
   "execution_count": 10,
   "id": "dd7164e8-7147-419a-adb8-5f3b85ddb982",
   "metadata": {},
   "outputs": [],
   "source": [
    "os.makedirs('./tweets', exist_ok=True)\n",
    "for profile in tweets.keys():\n",
    "    pd.DataFrame(tweets[profile]).to_csv(f'./tweets/{profile}.csv', index=False, header=False)"
   ]
  },
  {
   "cell_type": "code",
   "execution_count": 11,
   "id": "2f98c8d3-1561-4ff1-a632-4d0d024b301f",
   "metadata": {},
   "outputs": [],
   "source": [
    "os.makedirs('./friends', exist_ok=True)\n",
    "for profile in friends.keys():\n",
    "    friends[profile].to_csv(f'./friends/{profile}.csv', index=False, header=True)"
   ]
  },
  {
   "cell_type": "code",
   "execution_count": 12,
   "id": "8ae62834-3079-4e16-a18b-308f37f22941",
   "metadata": {},
   "outputs": [
    {
     "ename": "TypeError",
     "evalue": "Object of type Status is not JSON serializable",
     "output_type": "error",
     "traceback": [
      "\u001b[0;31m---------------------------------------------------------------------------\u001b[0m",
      "\u001b[0;31mTypeError\u001b[0m                                 Traceback (most recent call last)",
      "Input \u001b[0;32mIn [12]\u001b[0m, in \u001b[0;36m<module>\u001b[0;34m\u001b[0m\n\u001b[1;32m      4\u001b[0m     result\u001b[38;5;241m.\u001b[39mappend({\n\u001b[1;32m      5\u001b[0m         \u001b[38;5;124m'\u001b[39m\u001b[38;5;124mid\u001b[39m\u001b[38;5;124m'\u001b[39m: p,\n\u001b[1;32m      6\u001b[0m         \u001b[38;5;124m'\u001b[39m\u001b[38;5;124mname\u001b[39m\u001b[38;5;124m'\u001b[39m: df_basic_info\u001b[38;5;241m.\u001b[39mT\u001b[38;5;241m.\u001b[39mto_dict()[p][\u001b[38;5;124m'\u001b[39m\u001b[38;5;124mname\u001b[39m\u001b[38;5;124m'\u001b[39m],\n\u001b[0;32m   (...)\u001b[0m\n\u001b[1;32m      9\u001b[0m         \u001b[38;5;124m'\u001b[39m\u001b[38;5;124mtweets\u001b[39m\u001b[38;5;124m'\u001b[39m: tweets[p]\n\u001b[1;32m     10\u001b[0m     })\n\u001b[1;32m     11\u001b[0m \u001b[38;5;28;01mwith\u001b[39;00m \u001b[38;5;28mopen\u001b[39m(\u001b[38;5;124m'\u001b[39m\u001b[38;5;124m./result.json\u001b[39m\u001b[38;5;124m'\u001b[39m, \u001b[38;5;124m'\u001b[39m\u001b[38;5;124mw\u001b[39m\u001b[38;5;124m'\u001b[39m) \u001b[38;5;28;01mas\u001b[39;00m fp:\n\u001b[0;32m---> 12\u001b[0m     \u001b[43mjson\u001b[49m\u001b[38;5;241;43m.\u001b[39;49m\u001b[43mdump\u001b[49m\u001b[43m(\u001b[49m\u001b[43mresult\u001b[49m\u001b[43m,\u001b[49m\u001b[43m \u001b[49m\u001b[43mfp\u001b[49m\u001b[43m,\u001b[49m\u001b[43m \u001b[49m\u001b[43mindent\u001b[49m\u001b[38;5;241;43m=\u001b[39;49m\u001b[38;5;241;43m4\u001b[39;49m\u001b[43m \u001b[49m\u001b[38;5;241;43m*\u001b[39;49m\u001b[43m \u001b[49m\u001b[38;5;124;43m'\u001b[39;49m\u001b[38;5;124;43m \u001b[39;49m\u001b[38;5;124;43m'\u001b[39;49m\u001b[43m)\u001b[49m\n",
      "File \u001b[0;32m/home/ec2-user/anaconda3/envs/twitter/lib/python3.8/json/__init__.py:179\u001b[0m, in \u001b[0;36mdump\u001b[0;34m(obj, fp, skipkeys, ensure_ascii, check_circular, allow_nan, cls, indent, separators, default, sort_keys, **kw)\u001b[0m\n\u001b[1;32m    173\u001b[0m     iterable \u001b[38;5;241m=\u001b[39m \u001b[38;5;28mcls\u001b[39m(skipkeys\u001b[38;5;241m=\u001b[39mskipkeys, ensure_ascii\u001b[38;5;241m=\u001b[39mensure_ascii,\n\u001b[1;32m    174\u001b[0m         check_circular\u001b[38;5;241m=\u001b[39mcheck_circular, allow_nan\u001b[38;5;241m=\u001b[39mallow_nan, indent\u001b[38;5;241m=\u001b[39mindent,\n\u001b[1;32m    175\u001b[0m         separators\u001b[38;5;241m=\u001b[39mseparators,\n\u001b[1;32m    176\u001b[0m         default\u001b[38;5;241m=\u001b[39mdefault, sort_keys\u001b[38;5;241m=\u001b[39msort_keys, \u001b[38;5;241m*\u001b[39m\u001b[38;5;241m*\u001b[39mkw)\u001b[38;5;241m.\u001b[39miterencode(obj)\n\u001b[1;32m    177\u001b[0m \u001b[38;5;66;03m# could accelerate with writelines in some versions of Python, at\u001b[39;00m\n\u001b[1;32m    178\u001b[0m \u001b[38;5;66;03m# a debuggability cost\u001b[39;00m\n\u001b[0;32m--> 179\u001b[0m \u001b[38;5;28;01mfor\u001b[39;00m chunk \u001b[38;5;129;01min\u001b[39;00m iterable:\n\u001b[1;32m    180\u001b[0m     fp\u001b[38;5;241m.\u001b[39mwrite(chunk)\n",
      "File \u001b[0;32m/home/ec2-user/anaconda3/envs/twitter/lib/python3.8/json/encoder.py:429\u001b[0m, in \u001b[0;36m_make_iterencode.<locals>._iterencode\u001b[0;34m(o, _current_indent_level)\u001b[0m\n\u001b[1;32m    427\u001b[0m     \u001b[38;5;28;01myield\u001b[39;00m _floatstr(o)\n\u001b[1;32m    428\u001b[0m \u001b[38;5;28;01melif\u001b[39;00m \u001b[38;5;28misinstance\u001b[39m(o, (\u001b[38;5;28mlist\u001b[39m, \u001b[38;5;28mtuple\u001b[39m)):\n\u001b[0;32m--> 429\u001b[0m     \u001b[38;5;28;01myield from\u001b[39;00m _iterencode_list(o, _current_indent_level)\n\u001b[1;32m    430\u001b[0m \u001b[38;5;28;01melif\u001b[39;00m \u001b[38;5;28misinstance\u001b[39m(o, \u001b[38;5;28mdict\u001b[39m):\n\u001b[1;32m    431\u001b[0m     \u001b[38;5;28;01myield from\u001b[39;00m _iterencode_dict(o, _current_indent_level)\n",
      "File \u001b[0;32m/home/ec2-user/anaconda3/envs/twitter/lib/python3.8/json/encoder.py:325\u001b[0m, in \u001b[0;36m_make_iterencode.<locals>._iterencode_list\u001b[0;34m(lst, _current_indent_level)\u001b[0m\n\u001b[1;32m    323\u001b[0m         \u001b[38;5;28;01melse\u001b[39;00m:\n\u001b[1;32m    324\u001b[0m             chunks \u001b[38;5;241m=\u001b[39m _iterencode(value, _current_indent_level)\n\u001b[0;32m--> 325\u001b[0m         \u001b[38;5;28;01myield from\u001b[39;00m chunks\n\u001b[1;32m    326\u001b[0m \u001b[38;5;28;01mif\u001b[39;00m newline_indent \u001b[38;5;129;01mis\u001b[39;00m \u001b[38;5;129;01mnot\u001b[39;00m \u001b[38;5;28;01mNone\u001b[39;00m:\n\u001b[1;32m    327\u001b[0m     _current_indent_level \u001b[38;5;241m-\u001b[39m\u001b[38;5;241m=\u001b[39m \u001b[38;5;241m1\u001b[39m\n",
      "File \u001b[0;32m/home/ec2-user/anaconda3/envs/twitter/lib/python3.8/json/encoder.py:405\u001b[0m, in \u001b[0;36m_make_iterencode.<locals>._iterencode_dict\u001b[0;34m(dct, _current_indent_level)\u001b[0m\n\u001b[1;32m    403\u001b[0m         \u001b[38;5;28;01melse\u001b[39;00m:\n\u001b[1;32m    404\u001b[0m             chunks \u001b[38;5;241m=\u001b[39m _iterencode(value, _current_indent_level)\n\u001b[0;32m--> 405\u001b[0m         \u001b[38;5;28;01myield from\u001b[39;00m chunks\n\u001b[1;32m    406\u001b[0m \u001b[38;5;28;01mif\u001b[39;00m newline_indent \u001b[38;5;129;01mis\u001b[39;00m \u001b[38;5;129;01mnot\u001b[39;00m \u001b[38;5;28;01mNone\u001b[39;00m:\n\u001b[1;32m    407\u001b[0m     _current_indent_level \u001b[38;5;241m-\u001b[39m\u001b[38;5;241m=\u001b[39m \u001b[38;5;241m1\u001b[39m\n",
      "File \u001b[0;32m/home/ec2-user/anaconda3/envs/twitter/lib/python3.8/json/encoder.py:325\u001b[0m, in \u001b[0;36m_make_iterencode.<locals>._iterencode_list\u001b[0;34m(lst, _current_indent_level)\u001b[0m\n\u001b[1;32m    323\u001b[0m         \u001b[38;5;28;01melse\u001b[39;00m:\n\u001b[1;32m    324\u001b[0m             chunks \u001b[38;5;241m=\u001b[39m _iterencode(value, _current_indent_level)\n\u001b[0;32m--> 325\u001b[0m         \u001b[38;5;28;01myield from\u001b[39;00m chunks\n\u001b[1;32m    326\u001b[0m \u001b[38;5;28;01mif\u001b[39;00m newline_indent \u001b[38;5;129;01mis\u001b[39;00m \u001b[38;5;129;01mnot\u001b[39;00m \u001b[38;5;28;01mNone\u001b[39;00m:\n\u001b[1;32m    327\u001b[0m     _current_indent_level \u001b[38;5;241m-\u001b[39m\u001b[38;5;241m=\u001b[39m \u001b[38;5;241m1\u001b[39m\n",
      "File \u001b[0;32m/home/ec2-user/anaconda3/envs/twitter/lib/python3.8/json/encoder.py:438\u001b[0m, in \u001b[0;36m_make_iterencode.<locals>._iterencode\u001b[0;34m(o, _current_indent_level)\u001b[0m\n\u001b[1;32m    436\u001b[0m         \u001b[38;5;28;01mraise\u001b[39;00m \u001b[38;5;167;01mValueError\u001b[39;00m(\u001b[38;5;124m\"\u001b[39m\u001b[38;5;124mCircular reference detected\u001b[39m\u001b[38;5;124m\"\u001b[39m)\n\u001b[1;32m    437\u001b[0m     markers[markerid] \u001b[38;5;241m=\u001b[39m o\n\u001b[0;32m--> 438\u001b[0m o \u001b[38;5;241m=\u001b[39m \u001b[43m_default\u001b[49m\u001b[43m(\u001b[49m\u001b[43mo\u001b[49m\u001b[43m)\u001b[49m\n\u001b[1;32m    439\u001b[0m \u001b[38;5;28;01myield from\u001b[39;00m _iterencode(o, _current_indent_level)\n\u001b[1;32m    440\u001b[0m \u001b[38;5;28;01mif\u001b[39;00m markers \u001b[38;5;129;01mis\u001b[39;00m \u001b[38;5;129;01mnot\u001b[39;00m \u001b[38;5;28;01mNone\u001b[39;00m:\n",
      "File \u001b[0;32m/home/ec2-user/anaconda3/envs/twitter/lib/python3.8/json/encoder.py:179\u001b[0m, in \u001b[0;36mJSONEncoder.default\u001b[0;34m(self, o)\u001b[0m\n\u001b[1;32m    160\u001b[0m \u001b[38;5;28;01mdef\u001b[39;00m \u001b[38;5;21mdefault\u001b[39m(\u001b[38;5;28mself\u001b[39m, o):\n\u001b[1;32m    161\u001b[0m     \u001b[38;5;124;03m\"\"\"Implement this method in a subclass such that it returns\u001b[39;00m\n\u001b[1;32m    162\u001b[0m \u001b[38;5;124;03m    a serializable object for ``o``, or calls the base implementation\u001b[39;00m\n\u001b[1;32m    163\u001b[0m \u001b[38;5;124;03m    (to raise a ``TypeError``).\u001b[39;00m\n\u001b[0;32m   (...)\u001b[0m\n\u001b[1;32m    177\u001b[0m \n\u001b[1;32m    178\u001b[0m \u001b[38;5;124;03m    \"\"\"\u001b[39;00m\n\u001b[0;32m--> 179\u001b[0m     \u001b[38;5;28;01mraise\u001b[39;00m \u001b[38;5;167;01mTypeError\u001b[39;00m(\u001b[38;5;124mf\u001b[39m\u001b[38;5;124m'\u001b[39m\u001b[38;5;124mObject of type \u001b[39m\u001b[38;5;132;01m{\u001b[39;00mo\u001b[38;5;241m.\u001b[39m\u001b[38;5;18m__class__\u001b[39m\u001b[38;5;241m.\u001b[39m\u001b[38;5;18m__name__\u001b[39m\u001b[38;5;132;01m}\u001b[39;00m\u001b[38;5;124m \u001b[39m\u001b[38;5;124m'\u001b[39m\n\u001b[1;32m    180\u001b[0m                     \u001b[38;5;124mf\u001b[39m\u001b[38;5;124m'\u001b[39m\u001b[38;5;124mis not JSON serializable\u001b[39m\u001b[38;5;124m'\u001b[39m)\n",
      "\u001b[0;31mTypeError\u001b[0m: Object of type Status is not JSON serializable"
     ]
    }
   ],
   "source": [
    "result = []\n",
    "for p in INTERESTED_PROFILES:\n",
    "    fs = friends[p].T.to_dict() \n",
    "    result.append({\n",
    "        'id': p,\n",
    "        'name': df_basic_info.T.to_dict()[p]['name'],\n",
    "        'basic_info': df_basic_info.T.to_dict()[p],\n",
    "        'friends': [fs[key] for key in fs.keys()],\n",
    "        'tweets': tweets[p]\n",
    "    })\n",
    "with open('./result.json', 'w') as fp:\n",
    "    json.dump(result, fp, indent=4 * ' ')"
   ]
  },
  {
   "cell_type": "code",
   "execution_count": null,
   "id": "65c4fedd-5c68-41df-97b8-0b4cf50434b5",
   "metadata": {},
   "outputs": [],
   "source": []
  }
 ],
 "metadata": {
  "kernelspec": {
   "display_name": "twitter",
   "language": "python",
   "name": "twitter"
  },
  "language_info": {
   "codemirror_mode": {
    "name": "ipython",
    "version": 3
   },
   "file_extension": ".py",
   "mimetype": "text/x-python",
   "name": "python",
   "nbconvert_exporter": "python",
   "pygments_lexer": "ipython3",
   "version": "3.8.12"
  }
 },
 "nbformat": 4,
 "nbformat_minor": 5
}
